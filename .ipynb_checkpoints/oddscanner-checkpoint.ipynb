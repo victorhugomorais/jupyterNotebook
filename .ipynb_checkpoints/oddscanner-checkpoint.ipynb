{
 "cells": [
  {
   "cell_type": "code",
   "execution_count": 1,
   "id": "ebcb2816",
   "metadata": {},
   "outputs": [],
   "source": [
    "import time\n",
    "from selenium import webdriver\n"
   ]
  },
  {
   "cell_type": "code",
   "execution_count": 49,
   "id": "a6c72f6c",
   "metadata": {},
   "outputs": [
    {
     "name": "stderr",
     "output_type": "stream",
     "text": [
      "<ipython-input-49-cf8a718414e1>:14: DeprecationWarning: find_element_by_* commands are deprecated. Please use find_element() instead\n",
      "  datas.append(navegador.find_element_by_xpath('/html/body/div[1]/div/div/div[1]/div/div[3]/div[1]/div/div[2]/div/div/section/div[2]/table/tbody/tr[%d]/td[1]'%i))\n",
      "<ipython-input-49-cf8a718414e1>:15: DeprecationWarning: find_element_by_* commands are deprecated. Please use find_element() instead\n",
      "  closes.append(navegador.find_element_by_xpath('/html/body/div[1]/div/div/div[1]/div/div[3]/div[1]/div/div[2]/div/div/section/div[2]/table/tbody/tr[%d]/td[5]/span'%i))\n",
      "<ipython-input-49-cf8a718414e1>:17: DeprecationWarning: find_element_by_* commands are deprecated. Please use find_element() instead\n",
      "  datasi.append(navegador.find_element_by_xpath('/html/body/div[1]/div/div/div[1]/div/div[3]/div[1]/div/div[2]/div/div/section/div[2]/table/tbody/tr[%d]/td[1]'%i))\n",
      "<ipython-input-49-cf8a718414e1>:18: DeprecationWarning: find_element_by_* commands are deprecated. Please use find_element() instead\n",
      "  closesi.append(navegador.find_element_by_xpath('/html/body/div[1]/div/div/div[1]/div/div[3]/div[1]/div/div[2]/div/div/section/div[2]/table/tbody/tr[%d]/td[5]/span'%i))\n"
     ]
    },
    {
     "name": "stdout",
     "output_type": "stream",
     "text": [
      "Nov 20, 2021\n",
      "52,846.34\n",
      "Nov 19, 2021\n",
      "51,492.03\n",
      "Nov 18, 2021\n",
      "50,086.53\n",
      "Nov 17, 2021\n",
      "53,339.00\n",
      "Nov 16, 2021\n",
      "53,146.45\n",
      "Nov 15, 2021\n",
      "55,914.40\n",
      "Nov 14, 2021\n",
      "57,219.66\n",
      "Nov 13, 2021\n",
      "56,335.54\n",
      "Nov 12, 2021\n",
      "56,061.52\n",
      "Nov 11, 2021\n",
      "56,736.26\n",
      "Nov 10, 2021\n",
      "56,588.42\n",
      "iii Nov 20, 2021\n",
      "iii 52,846.34\n",
      "iii Nov 19, 2021\n",
      "iii 51,492.03\n",
      "iii Nov 18, 2021\n",
      "iii 50,086.53\n",
      "iii Nov 17, 2021\n",
      "iii 53,339.00\n",
      "iii Nov 16, 2021\n",
      "iii 53,146.45\n",
      "iii Nov 15, 2021\n",
      "iii 55,914.40\n",
      "iii Nov 14, 2021\n",
      "iii 57,219.66\n",
      "iii Nov 13, 2021\n",
      "iii 56,335.54\n",
      "iii Nov 12, 2021\n",
      "iii 56,061.52\n",
      "iii Nov 11, 2021\n",
      "iii 56,736.26\n",
      "iii Nov 10, 2021\n",
      "iii 56,588.42\n"
     ]
    }
   ],
   "source": [
    "#abre o google chrome\n",
    "navegador = webdriver.Chrome()\n",
    "#entra no site do yahoofinance\n",
    "navegador.get(\"https://finance.yahoo.com/quote/BTC-EUR/history/\")\n",
    "\n",
    "#listas de datas e valor de fechamento de mercados\n",
    "datas = []\n",
    "closes = []\n",
    "\n",
    "datasi = [] #pra tirar o .text\n",
    "closesi = [] #pra tirar o .text \n",
    "#pegando os valores do ultimos 10 dias + dia atual\n",
    "for i in range(1,12):\n",
    "    datas.append(navegador.find_element_by_xpath('/html/body/div[1]/div/div/div[1]/div/div[3]/div[1]/div/div[2]/div/div/section/div[2]/table/tbody/tr[%d]/td[1]'%i))  \n",
    "    closes.append(navegador.find_element_by_xpath('/html/body/div[1]/div/div/div[1]/div/div[3]/div[1]/div/div[2]/div/div/section/div[2]/table/tbody/tr[%d]/td[5]/span'%i))\n",
    "    \n",
    "    datasi.append(navegador.find_element_by_xpath('/html/body/div[1]/div/div/div[1]/div/div[3]/div[1]/div/div[2]/div/div/section/div[2]/table/tbody/tr[%d]/td[1]'%i))  \n",
    "    closesi.append(navegador.find_element_by_xpath('/html/body/div[1]/div/div/div[1]/div/div[3]/div[1]/div/div[2]/div/div/section/div[2]/table/tbody/tr[%d]/td[5]/span'%i))\n",
    "\n",
    "#printando como teste para ver se está funcionando\n",
    "for i in range(len(datas)):\n",
    "    print(datas[i].text)\n",
    "    print(closes[i].text)\n",
    "    \n",
    "#datasi = []\n",
    "#closesi = []\n",
    "for i in range(len(datas)):\n",
    "    datasi[i] = datas[i].text\n",
    "    closesi[i] = closes[i].text\n",
    "    \n",
    "for i in range(len(datas)):\n",
    "    print(\"iii \" + datasi[i])\n",
    "    print(\"iii \" + closesi[i])"
   ]
  },
  {
   "cell_type": "code",
   "execution_count": 62,
   "id": "9e755691",
   "metadata": {},
   "outputs": [],
   "source": [
    "import csv \n",
    "\n",
    "with open('eur_btc_rates.csv','w', newline='') as f:\n",
    "    fieldnames = ['Date','BTC Closing Value']\n",
    "    escritor = csv.DictWriter(f, fieldnames=fieldnames)\n",
    "    \n",
    "    escritor.writeheader()\n",
    "    \n",
    "    for i in range(len(datas)):\n",
    "        escritor.writerow({'Date' : datasi[i] , 'BTC Closing Value' : closesi[i]})\n",
    "\n",
    "    \n"
   ]
  },
  {
   "cell_type": "code",
   "execution_count": null,
   "id": "622cf7f9",
   "metadata": {},
   "outputs": [],
   "source": []
  },
  {
   "cell_type": "code",
   "execution_count": null,
   "id": "5950caf1",
   "metadata": {},
   "outputs": [],
   "source": []
  },
  {
   "cell_type": "code",
   "execution_count": null,
   "id": "74442b12",
   "metadata": {},
   "outputs": [],
   "source": []
  }
 ],
 "metadata": {
  "kernelspec": {
   "display_name": "Python 3",
   "language": "python",
   "name": "python3"
  },
  "language_info": {
   "codemirror_mode": {
    "name": "ipython",
    "version": 3
   },
   "file_extension": ".py",
   "mimetype": "text/x-python",
   "name": "python",
   "nbconvert_exporter": "python",
   "pygments_lexer": "ipython3",
   "version": "3.8.8"
  }
 },
 "nbformat": 4,
 "nbformat_minor": 5
}
