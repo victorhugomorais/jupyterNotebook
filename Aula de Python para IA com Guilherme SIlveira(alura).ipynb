{
 "cells": [
  {
   "cell_type": "code",
   "execution_count": 1,
   "id": "d2d973c2",
   "metadata": {},
   "outputs": [
    {
     "name": "stdout",
     "output_type": "stream",
     "text": [
      "michel\n"
     ]
    }
   ],
   "source": [
    "nome = 'michel'\n",
    "print(nome)"
   ]
  },
  {
   "cell_type": "code",
   "execution_count": 3,
   "id": "42ef4d1b",
   "metadata": {},
   "outputs": [
    {
     "data": {
      "text/plain": [
       "40"
      ]
     },
     "execution_count": 3,
     "metadata": {},
     "output_type": "execute_result"
    }
   ],
   "source": [
    "idade = 37\n",
    "idade + 3"
   ]
  },
  {
   "cell_type": "code",
   "execution_count": 4,
   "id": "e7ad1d67",
   "metadata": {},
   "outputs": [
    {
     "data": {
      "text/plain": [
       "37"
      ]
     },
     "execution_count": 4,
     "metadata": {},
     "output_type": "execute_result"
    }
   ],
   "source": [
    "idade"
   ]
  },
  {
   "cell_type": "code",
   "execution_count": 5,
   "id": "2f8aab81",
   "metadata": {},
   "outputs": [
    {
     "data": {
      "text/plain": [
       "38"
      ]
     },
     "execution_count": 5,
     "metadata": {},
     "output_type": "execute_result"
    }
   ],
   "source": [
    "def idade_mais_um(idade):\n",
    "    return idade + 1\n",
    "\n",
    "idade_mais_um(idade) #qualquer coisa é so colocar numa variavel e printar a variavel dps! o jupyter printa direto"
   ]
  },
  {
   "cell_type": "code",
   "execution_count": 7,
   "id": "70129ef0",
   "metadata": {},
   "outputs": [
    {
     "data": {
      "text/plain": [
       "['matrix', 'homem aranha', 'batman']"
      ]
     },
     "execution_count": 7,
     "metadata": {},
     "output_type": "execute_result"
    }
   ],
   "source": [
    "filmes = [\"matrix\", 'homem aranha','batman']\n",
    "filmes"
   ]
  },
  {
   "cell_type": "code",
   "execution_count": 20,
   "id": "f0f8fe2b",
   "metadata": {},
   "outputs": [
    {
     "name": "stdout",
     "output_type": "stream",
     "text": [
      "filmes disponiveis: \n"
     ]
    },
    {
     "data": {
      "text/plain": [
       "['matrix', 'homem aranha', 'batman']"
      ]
     },
     "execution_count": 20,
     "metadata": {},
     "output_type": "execute_result"
    }
   ],
   "source": [
    "def imprime_filmes(a):\n",
    "    print('filmes disponiveis: ')\n",
    "    return a\n",
    "\n",
    "imprime_filmes(filmes)"
   ]
  },
  {
   "cell_type": "code",
   "execution_count": 18,
   "id": "4e3c6136",
   "metadata": {},
   "outputs": [
    {
     "data": {
      "text/plain": [
       "'batman'"
      ]
     },
     "execution_count": 18,
     "metadata": {},
     "output_type": "execute_result"
    }
   ],
   "source": [
    "filmes[-1]"
   ]
  },
  {
   "cell_type": "code",
   "execution_count": 11,
   "id": "25ca3762",
   "metadata": {},
   "outputs": [
    {
     "data": {
      "text/plain": [
       "['homem aranha', 'batman']"
      ]
     },
     "execution_count": 11,
     "metadata": {},
     "output_type": "execute_result"
    }
   ],
   "source": [
    "filmes[1:]"
   ]
  },
  {
   "cell_type": "code",
   "execution_count": 13,
   "id": "5446dfd7",
   "metadata": {},
   "outputs": [
    {
     "data": {
      "text/plain": [
       "['homem aranha', 'batman']"
      ]
     },
     "execution_count": 13,
     "metadata": {},
     "output_type": "execute_result"
    }
   ],
   "source": [
    "filmes[1:]"
   ]
  },
  {
   "cell_type": "code",
   "execution_count": 15,
   "id": "bd9fbd3a",
   "metadata": {},
   "outputs": [
    {
     "name": "stdout",
     "output_type": "stream",
     "text": [
      "matrix\n",
      "homem aranha\n",
      "batman\n"
     ]
    }
   ],
   "source": [
    "for i in filmes:\n",
    "    print(i)"
   ]
  },
  {
   "cell_type": "code",
   "execution_count": 27,
   "id": "9edc21ae",
   "metadata": {},
   "outputs": [
    {
     "name": "stdout",
     "output_type": "stream",
     "text": [
      "lista filmes disponiveis: \n",
      "matrix\n",
      "homem aranha\n",
      "batman\n"
     ]
    }
   ],
   "source": [
    "def imp_for(filmes_quero_imprimir):\n",
    "    print(\"lista filmes disponiveis: \")\n",
    "    \n",
    "    for i in filmes_quero_imprimir:\n",
    "        print(i)\n",
    "        \n",
    "imp_for(filmes)\n",
    "    "
   ]
  },
  {
   "cell_type": "code",
   "execution_count": 31,
   "id": "25301978",
   "metadata": {},
   "outputs": [
    {
     "data": {
      "text/plain": [
       "{'nome': 'victor', 'idade': 23, 'natural': 'cabo frio'}"
      ]
     },
     "execution_count": 31,
     "metadata": {},
     "output_type": "execute_result"
    }
   ],
   "source": [
    "dados = {\"nome\": \"victor\", \"idade\": 23, \"natural\" : \"cabo frio\"}\n",
    "dados"
   ]
  },
  {
   "cell_type": "code",
   "execution_count": null,
   "id": "63efccf8",
   "metadata": {},
   "outputs": [],
   "source": []
  }
 ],
 "metadata": {
  "kernelspec": {
   "display_name": "Python 3",
   "language": "python",
   "name": "python3"
  },
  "language_info": {
   "codemirror_mode": {
    "name": "ipython",
    "version": 3
   },
   "file_extension": ".py",
   "mimetype": "text/x-python",
   "name": "python",
   "nbconvert_exporter": "python",
   "pygments_lexer": "ipython3",
   "version": "3.8.8"
  }
 },
 "nbformat": 4,
 "nbformat_minor": 5
}
